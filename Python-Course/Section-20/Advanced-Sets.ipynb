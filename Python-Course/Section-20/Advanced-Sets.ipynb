{
 "cells": [
  {
   "cell_type": "code",
   "execution_count": null,
   "metadata": {},
   "outputs": [],
   "source": [
    "s = set()"
   ]
  },
  {
   "cell_type": "code",
   "execution_count": null,
   "metadata": {},
   "outputs": [],
   "source": [
    "s.add(1)\n",
    "s.add(2)\n",
    "\n",
    "s.clear()\n",
    "\n",
    "s = {1, 2, 3}\n",
    "# changes won't affect the original or the other way around\n",
    "sc = s.copy()\n",
    "s.add(4)"
   ]
  },
  {
   "cell_type": "code",
   "execution_count": null,
   "metadata": {},
   "outputs": [],
   "source": [
    "# returns the differences between 2 sets\n",
    "s.difference(sc)\n",
    "\n",
    "s1 = {1, 2, 3}\n",
    "s2 = {1, 4, 5}\n",
    "\n",
    "# returns the s1 set after remove all the elements found in the s2 set\n",
    "s1.difference_update(s2)\n",
    "\n",
    "# tosh the 2 element\n",
    "# don't get an error if the element is not in the set\n",
    "s.discard(2)"
   ]
  },
  {
   "cell_type": "code",
   "execution_count": null,
   "metadata": {},
   "outputs": [],
   "source": [
    "s1 = {1, 2, 3}\n",
    "s2 = {1, 2, 4}\n",
    "\n",
    "# the common elements\n",
    "s1.intersection(s2)\n",
    "\n",
    "# update the set s1\n",
    "s1.intersection_update(s2)"
   ]
  },
  {
   "cell_type": "code",
   "execution_count": null,
   "metadata": {},
   "outputs": [],
   "source": [
    "s1 = {1, 2}\n",
    "s2 = {1, 2, 4}\n",
    "s3 = {5}\n",
    "\n",
    "s1.isdisjoint(s2)\n",
    "s1.isdisjoint(s3)\n",
    "\n",
    "s1.issubset(s2)\n",
    "s2.issuperset(s1)\n",
    "\n",
    "# the element that is exactly in one of the sets\n",
    "s1.symmetric_difference(s2)\n",
    "\n",
    "# all the elements of the sets\n",
    "s1.union(s2)\n",
    "\n",
    "s1.update(s2)"
   ]
  }
 ],
 "metadata": {
  "language_info": {
   "name": "python"
  }
 },
 "nbformat": 4,
 "nbformat_minor": 2
}
