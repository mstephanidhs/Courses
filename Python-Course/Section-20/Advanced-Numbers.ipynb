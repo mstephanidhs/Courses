{
 "cells": [
  {
   "cell_type": "code",
   "execution_count": null,
   "metadata": {},
   "outputs": [],
   "source": [
    "hex(12)\n",
    "\n",
    "bin(128)"
   ]
  },
  {
   "cell_type": "code",
   "execution_count": null,
   "metadata": {},
   "outputs": [],
   "source": [
    "# instead of 2**4\n",
    "pow(2,4)\n",
    "\n",
    "#  (2 ** 4) % 3\n",
    "pow(2, 4, 3)"
   ]
  },
  {
   "cell_type": "code",
   "execution_count": null,
   "metadata": {},
   "outputs": [],
   "source": [
    "abs(-3)\n",
    "\n",
    "abs(2)\n",
    "\n",
    "round(3, 9)\n",
    "\n",
    "# round to the second digits after .\n",
    "round(3.141592, 2)"
   ]
  }
 ],
 "metadata": {
  "language_info": {
   "name": "python"
  }
 },
 "nbformat": 4,
 "nbformat_minor": 2
}
