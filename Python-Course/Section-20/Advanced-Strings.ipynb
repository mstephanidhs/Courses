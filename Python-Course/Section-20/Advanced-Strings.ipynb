{
 "cells": [
  {
   "cell_type": "code",
   "execution_count": null,
   "metadata": {},
   "outputs": [],
   "source": [
    "s = 'hello world'"
   ]
  },
  {
   "cell_type": "code",
   "execution_count": null,
   "metadata": {},
   "outputs": [],
   "source": [
    "s.capitalize()\n",
    "\n",
    "s.upper()\n",
    "\n",
    "s.lower()"
   ]
  },
  {
   "cell_type": "code",
   "execution_count": null,
   "metadata": {},
   "outputs": [],
   "source": [
    "# how many o's are in the string\n",
    "s.count('o')\n",
    "\n",
    "# returns the first occurence of the letter (index)\n",
    "s.find('o')"
   ]
  },
  {
   "cell_type": "code",
   "execution_count": null,
   "metadata": {},
   "outputs": [],
   "source": [
    "# centet the string between z's and have total length to 20\n",
    "s.center(20, 'z')"
   ]
  },
  {
   "cell_type": "code",
   "execution_count": null,
   "metadata": {},
   "outputs": [],
   "source": [
    "s = 'hello'\n",
    "\n",
    "# if all the characters are alphanumeric\n",
    "s.isalnum()\n",
    "\n",
    "# if they are all alphabetic\n",
    "s.isalpha()"
   ]
  },
  {
   "cell_type": "code",
   "execution_count": null,
   "metadata": {},
   "outputs": [],
   "source": [
    "# if all characters are lower\n",
    "s.islower()\n",
    "\n",
    "# if all characters are whitespace\n",
    "s.isspace()\n",
    "\n",
    "# if s is a title case string\n",
    "s.istitle()\n",
    "\n",
    "# if all characters are uppercase\n",
    "s.isupper()"
   ]
  },
  {
   "cell_type": "code",
   "execution_count": null,
   "metadata": {},
   "outputs": [],
   "source": [
    "# split the string at every occurence at e\n",
    "s.split('e')\n",
    "\n",
    "# search for the seperator and return the part before it, \n",
    "# the seperator itself and the part after it\n",
    "# at the first occurrence only\n",
    "s.partition('i')"
   ]
  }
 ],
 "metadata": {
  "language_info": {
   "name": "python"
  }
 },
 "nbformat": 4,
 "nbformat_minor": 2
}
