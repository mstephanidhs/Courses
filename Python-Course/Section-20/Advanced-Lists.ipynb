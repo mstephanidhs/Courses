{
 "cells": [
  {
   "cell_type": "code",
   "execution_count": null,
   "metadata": {},
   "outputs": [],
   "source": [
    "l = [1, 2, 3]"
   ]
  },
  {
   "cell_type": "code",
   "execution_count": null,
   "metadata": {},
   "outputs": [],
   "source": [
    "l.append(4)"
   ]
  },
  {
   "cell_type": "code",
   "execution_count": null,
   "metadata": {},
   "outputs": [],
   "source": [
    "l.count(10)\n",
    "l.count(1)"
   ]
  },
  {
   "cell_type": "code",
   "execution_count": null,
   "metadata": {},
   "outputs": [],
   "source": [
    "x = [1, 2, 3]\n",
    "\n",
    "# appends the entire element given at the end of the list\n",
    "x.append([4, 5])\n",
    "print(x)\n",
    "\n",
    "# will append each element that is iterable\n",
    "x.extend([4, 5])"
   ]
  },
  {
   "cell_type": "code",
   "execution_count": null,
   "metadata": {},
   "outputs": [],
   "source": [
    "l.index(2)\n",
    "\n",
    "# will get an error if you try to index something that it is not in the list\n",
    "l.index(10)"
   ]
  },
  {
   "cell_type": "code",
   "execution_count": null,
   "metadata": {},
   "outputs": [],
   "source": [
    "l.insert(2, 'inserted')\n",
    "\n",
    "# removes the last element of the list\n",
    "ele = l.pop()\n",
    "l.pop(0)\n",
    "\n",
    "# removes only the first occurrence\n",
    "l.remove('inserted')\n",
    "\n",
    "# reverse the list obviously\n",
    "l.reverse()\n",
    "\n",
    "l.sort()"
   ]
  }
 ],
 "metadata": {
  "language_info": {
   "name": "python"
  }
 },
 "nbformat": 4,
 "nbformat_minor": 2
}
