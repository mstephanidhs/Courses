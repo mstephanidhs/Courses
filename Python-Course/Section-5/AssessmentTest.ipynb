{
 "cells": [
  {
   "cell_type": "markdown",
   "metadata": {
    "collapsed": true
   },
   "source": [
    "# Statements Assessment Test\n",
    "Let's test your knowledge!"
   ]
  },
  {
   "cell_type": "markdown",
   "metadata": {},
   "source": [
    "_____\n",
    "**Use <code>for</code>, .split(), and <code>if</code> to create a Statement that will print out words that start with 's':**"
   ]
  },
  {
   "cell_type": "code",
   "execution_count": 2,
   "metadata": {
    "collapsed": true
   },
   "outputs": [],
   "source": [
    "st = 'Print only the words that start with s in this sentence'"
   ]
  },
  {
   "cell_type": "code",
   "execution_count": 6,
   "metadata": {
    "collapsed": true
   },
   "outputs": [
    {
     "name": "stdout",
     "output_type": "stream",
     "text": [
      "start\n",
      "s\n",
      "sentence\n"
     ]
    }
   ],
   "source": [
    "#Code here\n",
    "for word in st.split(\" \"):\n",
    "    for letter in word:\n",
    "        if letter == 's':\n",
    "            print(word)\n",
    "        else:\n",
    "            break"
   ]
  },
  {
   "cell_type": "markdown",
   "metadata": {},
   "source": [
    "______\n",
    "**Use range() to print all the even numbers from 0 to 10.**"
   ]
  },
  {
   "cell_type": "code",
   "execution_count": 7,
   "metadata": {
    "collapsed": true
   },
   "outputs": [
    {
     "name": "stdout",
     "output_type": "stream",
     "text": [
      "0\n",
      "2\n",
      "4\n",
      "6\n",
      "8\n"
     ]
    }
   ],
   "source": [
    "#Code Here\n",
    "for number in range(0,10):\n",
    "    if number % 2 == 0:\n",
    "        print(number)"
   ]
  },
  {
   "cell_type": "markdown",
   "metadata": {},
   "source": [
    "___\n",
    "**Use a List Comprehension to create a list of all numbers between 1 and 50 that are divisible by 3.**"
   ]
  },
  {
   "cell_type": "code",
   "execution_count": 8,
   "metadata": {
    "collapsed": true
   },
   "outputs": [
    {
     "data": {
      "text/plain": [
       "[3, 6, 9, 12, 15, 18, 21, 24, 27, 30, 33, 36, 39, 42, 45, 48]"
      ]
     },
     "execution_count": 8,
     "metadata": {},
     "output_type": "execute_result"
    }
   ],
   "source": [
    "#Code in this cell\n",
    "[number for number in range(1, 50) if number % 3 == 0]"
   ]
  },
  {
   "cell_type": "markdown",
   "metadata": {},
   "source": [
    "_____\n",
    "**Go through the string below and if the length of a word is even print \"even!\"**"
   ]
  },
  {
   "cell_type": "code",
   "execution_count": null,
   "metadata": {
    "collapsed": true
   },
   "outputs": [],
   "source": [
    "st = 'Print every word in this sentence that has an even number of letters'"
   ]
  },
  {
   "cell_type": "code",
   "execution_count": 9,
   "metadata": {
    "collapsed": true
   },
   "outputs": [
    {
     "name": "stdout",
     "output_type": "stream",
     "text": [
      "even\n",
      "even\n",
      "even\n",
      "even\n",
      "even\n",
      "even\n"
     ]
    }
   ],
   "source": [
    "#Code in this cell\n",
    "for word in st.split(\" \"):\n",
    "    if len(word) % 2 == 0:\n",
    "        print('even') "
   ]
  },
  {
   "cell_type": "markdown",
   "metadata": {},
   "source": [
    "____\n",
    "**Write a program that prints the integers from 1 to 100. But for multiples of three print \"Fizz\" instead of the number, and for the multiples of five print \"Buzz\". For numbers which are multiples of both three and five print \"FizzBuzz\".**"
   ]
  },
  {
   "cell_type": "code",
   "execution_count": 13,
   "metadata": {
    "collapsed": true
   },
   "outputs": [
    {
     "name": "stdout",
     "output_type": "stream",
     "text": [
      "\n",
      "\n",
      "Fizz\n",
      "\n",
      "Buzz\n",
      "Fizz\n",
      "\n",
      "\n",
      "Fizz\n",
      "Buzz\n",
      "\n",
      "Fizz\n",
      "\n",
      "\n",
      "FizzBuzz\n",
      "\n",
      "\n",
      "Fizz\n",
      "\n",
      "Buzz\n",
      "Fizz\n",
      "\n",
      "\n",
      "Fizz\n",
      "Buzz\n",
      "\n",
      "Fizz\n",
      "\n",
      "\n",
      "FizzBuzz\n",
      "\n",
      "\n",
      "Fizz\n",
      "\n",
      "Buzz\n",
      "Fizz\n",
      "\n",
      "\n",
      "Fizz\n",
      "Buzz\n",
      "\n",
      "Fizz\n",
      "\n",
      "\n",
      "FizzBuzz\n",
      "\n",
      "\n",
      "Fizz\n",
      "\n",
      "Buzz\n",
      "Fizz\n",
      "\n",
      "\n",
      "Fizz\n",
      "Buzz\n",
      "\n",
      "Fizz\n",
      "\n",
      "\n",
      "FizzBuzz\n",
      "\n",
      "\n",
      "Fizz\n",
      "\n",
      "Buzz\n",
      "Fizz\n",
      "\n",
      "\n",
      "Fizz\n",
      "Buzz\n",
      "\n",
      "Fizz\n",
      "\n",
      "\n",
      "FizzBuzz\n",
      "\n",
      "\n",
      "Fizz\n",
      "\n",
      "Buzz\n",
      "Fizz\n",
      "\n",
      "\n",
      "Fizz\n",
      "Buzz\n",
      "\n",
      "Fizz\n",
      "\n",
      "\n",
      "FizzBuzz\n",
      "\n",
      "\n",
      "Fizz\n",
      "\n",
      "Buzz\n",
      "Fizz\n",
      "\n",
      "\n",
      "Fizz\n"
     ]
    }
   ],
   "source": [
    "#Code in this cell\n",
    "for number in range(1, 100):\n",
    "    str = ''\n",
    "    if (number % 3 == 0):\n",
    "        str += \"Fizz\"\n",
    "    if (number % 5 == 0):\n",
    "        str += \"Buzz\"\n",
    "    print(str) "
   ]
  },
  {
   "cell_type": "markdown",
   "metadata": {},
   "source": [
    "____\n",
    "**Use List Comprehension to create a list of the first letters of every word in the string below:**"
   ]
  },
  {
   "cell_type": "code",
   "execution_count": 15,
   "metadata": {
    "collapsed": true
   },
   "outputs": [],
   "source": [
    "st = 'Create a list of the first letters of every word in this string'"
   ]
  },
  {
   "cell_type": "code",
   "execution_count": 16,
   "metadata": {
    "collapsed": true
   },
   "outputs": [
    {
     "data": {
      "text/plain": [
       "['C', 'a', 'l', 'o', 't', 'f', 'l', 'o', 'e', 'w', 'i', 't', 's']"
      ]
     },
     "execution_count": 16,
     "metadata": {},
     "output_type": "execute_result"
    }
   ],
   "source": [
    "#Code in this cell\n",
    "[word[0] for word in st.split(\" \") ]"
   ]
  },
  {
   "cell_type": "markdown",
   "metadata": {},
   "source": [
    "### Great Job!"
   ]
  }
 ],
 "metadata": {
  "kernelspec": {
   "display_name": "Python 3",
   "language": "python",
   "name": "python3"
  },
  "language_info": {
   "codemirror_mode": {
    "name": "ipython",
    "version": 3
   },
   "file_extension": ".py",
   "mimetype": "text/x-python",
   "name": "python",
   "nbconvert_exporter": "python",
   "pygments_lexer": "ipython3",
   "version": "3.12.0"
  }
 },
 "nbformat": 4,
 "nbformat_minor": 1
}
